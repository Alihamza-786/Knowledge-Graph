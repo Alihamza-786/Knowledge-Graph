{
 "cells": [
  {
   "cell_type": "markdown",
   "id": "940425c8-e439-4bef-8ebe-0cac73bc07e4",
   "metadata": {},
   "source": [
    "# 📘 Project Summary\n",
    "This notebook loads employee and service task data from a JSON file and imports it into a Neo4j graph database using py2neo. Basically we combined __Field Service and Employee.__\n",
    "\n",
    "## ✅ What we did:\n",
    "- Created Department nodes and added all employees under their respective departments.\n",
    "\n",
    "- Stored detailed Employee info including skills and tags.\n",
    "\n",
    "- Created Task nodes for each service task (like a customer visit or job).\n",
    "\n",
    "- Connected each Task to:\n",
    "\n",
    "    - Its Customer.\n",
    "\n",
    "    - The assigned Driver (linked to the Vehicle used).\n",
    "\n",
    "    - All selected Technicians involved.\n",
    "\n",
    "💡 This turns the data into a graph of relationships — making it easy to visualize who did what, when, and with whom!"
   ]
  },
  {
   "cell_type": "code",
   "execution_count": 8,
   "id": "d86470c0-ec39-4e36-9eee-72890a6c6e0b",
   "metadata": {},
   "outputs": [],
   "source": [
    "import json\n",
    "from py2neo import Graph, Node, Relationship, NodeMatcher"
   ]
  },
  {
   "cell_type": "code",
   "execution_count": 9,
   "id": "fa70e8c3-a173-45b5-9ff9-eeb4f1c8bbfe",
   "metadata": {},
   "outputs": [],
   "source": [
    "#Make Connection\n",
    "graph = Graph(\"bolt://localhost:7687\", auth=(\"neo4j\", \"12345678\"))"
   ]
  },
  {
   "cell_type": "code",
   "execution_count": 10,
   "id": "914b31ed-7eb5-44da-89d8-6760d5ef2be9",
   "metadata": {},
   "outputs": [],
   "source": [
    "# Load employee data from the JSON file\n",
    "with open(\"data/employees.json\", \"r\", encoding=\"utf-8\") as file:\n",
    "    emp_data = json.load(file)"
   ]
  },
  {
   "cell_type": "code",
   "execution_count": 11,
   "id": "59b674b4-cc41-4fa6-9bed-5701df183469",
   "metadata": {},
   "outputs": [
    {
     "name": "stdout",
     "output_type": "stream",
     "text": [
      "Created Department node: Administration\n",
      "Created Department node: Unknown Department\n",
      "Created Department node: Technician Team\n",
      "Created Department node: Drivers\n",
      "Created Department node: Customer Support Team\n",
      "Created Department node: Human Resource Department\n"
     ]
    }
   ],
   "source": [
    "# Get all department names\n",
    "departments = emp_data[\"Employee\"].keys()\n",
    "\n",
    "# Create a node for each department\n",
    "for dept_name in departments:\n",
    "    # Check if the department node already exists to avoid duplicates\n",
    "    existing_node = graph.nodes.match(\"Department\", name=dept_name).first()\n",
    "    if not existing_node:\n",
    "        dept_node = Node(\"Department\", name=dept_name)\n",
    "        graph.create(dept_node)\n",
    "        print(f\"Created Department node: {dept_name}\")\n",
    "    else:\n",
    "        print(f\"Department node already exists: {dept_name}\")"
   ]
  },
  {
   "cell_type": "markdown",
   "id": "b6f65dcb-dc63-4c4a-8532-9a232107cae7",
   "metadata": {},
   "source": [
    "![All Departments](data/pics/departments.png)"
   ]
  },
  {
   "cell_type": "code",
   "execution_count": 12,
   "id": "1ca5f85a-f8b3-4d90-946c-4b2be0a8dc2c",
   "metadata": {},
   "outputs": [],
   "source": [
    "def create_employee(dept_name, employee_index):\n",
    "    employees = emp_data[\"Employee\"].get(dept_name)\n",
    "    if employees is None:\n",
    "        print(f\"❌ Department '{dept_name}' not found.\")\n",
    "        return\n",
    "\n",
    "    if employee_index >= len(employees):\n",
    "        print(f\"❌ Index {employee_index} out of range for department '{dept_name}'.\")\n",
    "        return\n",
    "\n",
    "    emp = employees[employee_index]\n",
    "    skill_tags = emp.get(\"skill_tags\", [])\n",
    "    skills_list = emp.get(\"skills\", [])\n",
    "\n",
    "    # Create or find Employee\n",
    "    emp_node = graph.nodes.match(\"Employee\", id=emp.get(\"id\")).first()\n",
    "    if not emp_node:\n",
    "        emp_node = Node(\n",
    "            \"Employee\",\n",
    "            id=emp.get(\"id\"),\n",
    "            name=emp.get(\"name\") or \"\",\n",
    "            gender=emp.get(\"gender\") or \"\",\n",
    "            contact=emp.get(\"contact\") or \"\",\n",
    "            email=emp.get(\"email\") or \"\",\n",
    "            private_address=emp.get(\"private_address\") or \"\",\n",
    "            job_title=emp.get(\"job_title\") or \"\",\n",
    "            working_shift=emp.get(\"working_shift\") or \"\",\n",
    "            skill_tags=skill_tags\n",
    "        )\n",
    "        graph.create(emp_node)\n",
    "        print(f\"✅ Created Employee: {emp.get('name')}\")\n",
    "    else:\n",
    "        print(f\"⚠️ Employee already exists: {emp.get('name')}\")\n",
    "        return\n",
    "\n",
    "    # Link to Department\n",
    "    dept_node = graph.nodes.match(\"Department\", name=dept_name).first()\n",
    "    if dept_node:\n",
    "        graph.merge(Relationship(emp_node, \"WORKS_IN\", dept_node))\n",
    "    else:\n",
    "        print(f\"❌ Department node not found: {dept_name}\")\n",
    "\n",
    "    # Create Skill nodes & relationships\n",
    "    for skill in skills_list:\n",
    "        skill_name = skill.get(\"name\")\n",
    "        progress = skill.get(\"progress\")\n",
    "\n",
    "        if skill_name:\n",
    "            skill_node = graph.nodes.match(\"Skill\", name=skill_name).first()\n",
    "            if not skill_node:\n",
    "                skill_node = Node(\"Skill\", name=skill_name)\n",
    "                graph.create(skill_node)\n",
    "\n",
    "            rel = Relationship(emp_node, \"HAS_SKILL\", skill_node, progress=progress)\n",
    "            graph.merge(rel)"
   ]
  },
  {
   "cell_type": "code",
   "execution_count": 13,
   "id": "fbcda03e-7f71-48ee-a171-533f76526449",
   "metadata": {},
   "outputs": [],
   "source": [
    "def create_all_employees(dept_name):\n",
    "    employees = emp_data[\"Employee\"].get(dept_name)\n",
    "    \n",
    "    if not employees:\n",
    "        print(f\"❌ Department '{dept_name}' not found or has no employees.\")\n",
    "        return\n",
    "    \n",
    "    for idx in range(len(employees)):\n",
    "        create_employee(dept_name, idx)"
   ]
  },
  {
   "cell_type": "code",
   "execution_count": 14,
   "id": "0a44677e-f792-4203-afe6-314ef336563e",
   "metadata": {},
   "outputs": [
    {
     "name": "stdout",
     "output_type": "stream",
     "text": [
      "✅ Created Employee: Safeer Ahmad Shah Muhammad\n",
      "✅ Created Employee: Muhammad Asad Asghar Ali\n",
      "✅ Created Employee: Waheed Ahmed Nisar Ahmed\n",
      "✅ Created Employee: Ali Raza Muhammad Mehdi\n",
      "✅ Created Employee: Muhammad Usman Khushi\n",
      "✅ Created Employee: Zain Ul Hadi Noor Ul Hadi\n",
      "✅ Created Employee: Nadeem\n",
      "✅ Created Employee: Abu Hurraira\n",
      "✅ Created Employee: Abdul Razzaq\n",
      "✅ Created Employee: Adnan Yousaf\n",
      "✅ Created Employee: Muhammad Asif\n",
      "✅ Created Employee: Muhammad Nabeel\n",
      "✅ Created Employee: Muhammad Shahid Muhammad Khalid\n",
      "✅ Created Employee: Zeeshan Khalid Mehmod\n"
     ]
    }
   ],
   "source": [
    "create_all_employees(\"Drivers\")"
   ]
  },
  {
   "cell_type": "markdown",
   "id": "6e04fb70-9e87-4458-ad27-67871ba86f37",
   "metadata": {},
   "source": [
    "![All Departments](data/pics/allDrivers.png)"
   ]
  },
  {
   "cell_type": "code",
   "execution_count": 15,
   "id": "358a67de-d961-4ede-aece-83557227906c",
   "metadata": {},
   "outputs": [
    {
     "name": "stdout",
     "output_type": "stream",
     "text": [
      "✅ Created Employee: Marife Genotivo\n",
      "✅ Created Employee: Ni Gusti Ayu Purnamawati\n",
      "✅ Created Employee: Mellisa Mojares\n",
      "✅ Created Employee: Rollyn Quitor Salvacion\n"
     ]
    }
   ],
   "source": [
    "create_employee(\"Technician Team\", 5)\n",
    "create_employee(\"Technician Team\", 12)\n",
    "create_employee(\"Technician Team\", 13)\n",
    "create_employee(\"Technician Team\", 25)\n"
   ]
  },
  {
   "cell_type": "markdown",
   "id": "fa143ff2-498b-4ef6-a3a9-76ee0a3e0853",
   "metadata": {},
   "source": [
    "![All Departments](data/pics/technicians.png)"
   ]
  },
  {
   "cell_type": "markdown",
   "id": "d0b4d699-3406-45ff-87e0-aee6d5c19b0d",
   "metadata": {},
   "source": [
    "# 2. Create Task"
   ]
  },
  {
   "cell_type": "code",
   "execution_count": 16,
   "id": "4fcc2f87-e958-4ed8-80da-adb183643b19",
   "metadata": {},
   "outputs": [],
   "source": [
    "# Load employee data from the JSON file\n",
    "with open(\"data/field_service.json\", \"r\", encoding=\"utf-8\") as file:\n",
    "    task_data = json.load(file)"
   ]
  },
  {
   "cell_type": "code",
   "execution_count": 17,
   "id": "6e67e1a9-aa2d-4b65-a41a-ac7b19c9ba28",
   "metadata": {},
   "outputs": [],
   "source": [
    "def create_task(task_items, graph):\n",
    "    for item in task_items:\n",
    "        # === 1. Create Task node ===\n",
    "        task_data = item.get(\"service_task\", {})\n",
    "        planned_date = item.get(\"planned_date\", {}).get(\"date\")\n",
    "        time_slot = item.get(\"time_slot\", {})\n",
    "        invoice = item.get(\"invoice\", {})\n",
    "\n",
    "        task = Node(\"Task\",\n",
    "                    id=task_data.get(\"id\"),\n",
    "                    name=task_data.get(\"standard_name\"),\n",
    "                    area=task_data.get(\"area\"),\n",
    "                    project=task_data.get(\"servis_name\"),\n",
    "                    planned_date=planned_date,\n",
    "                    start_time=time_slot.get(\"start\"),\n",
    "                    end_time=time_slot.get(\"end\"),\n",
    "                    amount=invoice.get(\"amount\"),\n",
    "                    order_reference=invoice.get(\"order_reference\"))\n",
    "        graph.merge(task, \"Task\", \"id\")\n",
    "\n",
    "        # === 2. Create Customer node ===\n",
    "        customer_data = item.get(\"customer\", {})\n",
    "        if customer_data.get(\"id\") is not None:\n",
    "            customer = Node(\"Customer\",\n",
    "                            id=customer_data.get(\"id\"),\n",
    "                            name=customer_data.get(\"name\"),\n",
    "                            gender=customer_data.get(\"gender\"),\n",
    "                            contact=customer_data.get(\"contact\"),\n",
    "                            address=customer_data.get(\"address\"),\n",
    "                            email=customer_data.get(\"email\"),\n",
    "                            map_url=customer_data.get(\"map_url\"))\n",
    "            graph.merge(customer, \"Customer\", \"id\")\n",
    "            graph.merge(Relationship(task, \"HAS_CUSTOMER\", customer))\n",
    "\n",
    "        # === 3. Link Driver (as Employee) ===\n",
    "        driver_data = item.get(\"driver\", {})\n",
    "        if driver_data.get(\"id\") is not None:\n",
    "            driver_node = graph.nodes.match(\"Employee\", id=driver_data[\"id\"]).first()\n",
    "            if not driver_node:\n",
    "                driver_node = Node(\"Employee\",\n",
    "                                   id=driver_data[\"id\"],\n",
    "                                   name=driver_data.get(\"name\"))\n",
    "                graph.create(driver_node)\n",
    "            graph.merge(Relationship(task, \"HAS_DRIVER\", driver_node))\n",
    "\n",
    "            # === 4. Vehicle + relationships ===\n",
    "            vehicle_data = item.get(\"vehicle\", {})\n",
    "            if vehicle_data.get(\"id\") is not None:\n",
    "                vehicle = Node(\"Vehicle\",\n",
    "                               id=vehicle_data[\"id\"],\n",
    "                               name=vehicle_data.get(\"name\"),\n",
    "                               license_plate=vehicle_data.get(\"license_plate\"))\n",
    "                graph.merge(vehicle, \"Vehicle\", \"id\")\n",
    "                graph.merge(Relationship(task, \"USES_VEHICLE\", vehicle))\n",
    "\n",
    "        # === 5. Link Technicians (as Employees) ===\n",
    "        selected_techs = item.get(\"technicians\", {}).get(\"selected_technician\", [])\n",
    "        for tech in selected_techs:\n",
    "            if tech.get(\"id\") is not None:\n",
    "                tech_node = graph.nodes.match(\"Employee\", id=tech[\"id\"]).first()\n",
    "                if not tech_node:\n",
    "                    tech_node = Node(\"Employee\",\n",
    "                                     id=tech[\"id\"],\n",
    "                                     name=tech.get(\"name\"),\n",
    "                                     resource_id=tech.get(\"resource_id\"))\n",
    "                    graph.create(tech_node)\n",
    "\n",
    "                graph.merge(Relationship(task, \"SELECTED_TECHNICIAN\", tech_node))"
   ]
  },
  {
   "cell_type": "code",
   "execution_count": 18,
   "id": "aafd2130-a478-4195-b699-4730b9bf0dd9",
   "metadata": {},
   "outputs": [],
   "source": [
    "#create few tasks only\n",
    "create_task(task_data[6:11], graph)"
   ]
  },
  {
   "cell_type": "markdown",
   "id": "90ec2502-0dbb-43d4-a333-60bb5ef37fbc",
   "metadata": {},
   "source": [
    "![All Departments](data/pics/completeTask.png)"
   ]
  }
 ],
 "metadata": {
  "kernelspec": {
   "display_name": "Python 3 (ipykernel)",
   "language": "python",
   "name": "python3"
  },
  "language_info": {
   "codemirror_mode": {
    "name": "ipython",
    "version": 3
   },
   "file_extension": ".py",
   "mimetype": "text/x-python",
   "name": "python",
   "nbconvert_exporter": "python",
   "pygments_lexer": "ipython3",
   "version": "3.12.3"
  }
 },
 "nbformat": 4,
 "nbformat_minor": 5
}
