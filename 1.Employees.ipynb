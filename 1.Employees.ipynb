{
 "cells": [
  {
   "cell_type": "markdown",
   "id": "ee285f5d-5d66-4ace-a593-4a7bd9329f72",
   "metadata": {},
   "source": [
    "# 📘 Project Summary\n",
    "This notebook loads employee data from a JSON file and saves it into a Neo4j graph database using py2neo.\n",
    "\n",
    "## 💡 What this means:\n",
    "We are turning our data into nodes and relationships, like drawing a network of people and their skills.\n",
    "\n",
    "## ✅ What we did:\n",
    "- Created one node for each department (like \"Administration\").\n",
    "- Added a function to create employee nodes from any department.\n",
    "- Linked each employee to their department with a connection.\n",
    "- For each employee, we:\n",
    "- Added the skills they know.\n",
    "- Stored how good they are at each skill (like 85%) as part of the connection.\n",
    "- Even if some employee details are missing (like email), we still add empty values so all employees have the same type of info."
   ]
  },
  {
   "cell_type": "code",
   "execution_count": 2,
   "id": "e241a3f6-9eae-4024-bad8-b98e465fb99c",
   "metadata": {},
   "outputs": [],
   "source": [
    "import json\n",
    "from py2neo import Graph, Node, Relationship, NodeMatcher"
   ]
  },
  {
   "cell_type": "code",
   "execution_count": 3,
   "id": "add3a8a8-19f1-4de1-a100-c620fd4246d4",
   "metadata": {},
   "outputs": [],
   "source": [
    "#Make Connection\n",
    "graph = Graph(\"bolt://localhost:7687\", auth=(\"neo4j\", \"12345678\"))"
   ]
  },
  {
   "cell_type": "code",
   "execution_count": 4,
   "id": "16afcb20-0985-4d35-8bea-cad43c8baf5d",
   "metadata": {},
   "outputs": [],
   "source": [
    "# Load employee data from the JSON file\n",
    "with open(\"data/employees.json\", \"r\", encoding=\"utf-8\") as file:\n",
    "    data = json.load(file)"
   ]
  },
  {
   "cell_type": "code",
   "execution_count": 5,
   "id": "e4a8cc93-705d-4bc1-afe5-8655c064f589",
   "metadata": {},
   "outputs": [
    {
     "name": "stdout",
     "output_type": "stream",
     "text": [
      "Top Level Keys:  ['Employee']\n"
     ]
    }
   ],
   "source": [
    "top_keys = list(data.keys())\n",
    "print(\"Top Level Keys: \", top_keys)"
   ]
  },
  {
   "cell_type": "code",
   "execution_count": 6,
   "id": "153748d3-282e-4ff0-a95f-1929ef4b43df",
   "metadata": {},
   "outputs": [
    {
     "name": "stdout",
     "output_type": "stream",
     "text": [
      "Departments:  dict_keys(['Administration', 'Unknown Department', 'Technician Team', 'Drivers', 'Customer Support Team', 'Human Resource Department'])\n"
     ]
    }
   ],
   "source": [
    "top_key = top_keys[0]\n",
    "\n",
    "print(\"Departments: \", data[top_key].keys())"
   ]
  },
  {
   "cell_type": "code",
   "execution_count": 7,
   "id": "58674b9f-7bed-43c0-98db-ed1d352b962d",
   "metadata": {},
   "outputs": [
    {
     "name": "stdout",
     "output_type": "stream",
     "text": [
      "Created Department node: Administration\n",
      "Created Department node: Unknown Department\n",
      "Created Department node: Technician Team\n",
      "Created Department node: Drivers\n",
      "Created Department node: Customer Support Team\n",
      "Created Department node: Human Resource Department\n"
     ]
    }
   ],
   "source": [
    "# Get all department names\n",
    "departments = data[\"Employee\"].keys()\n",
    "\n",
    "# Create a node for each department\n",
    "for dept_name in departments:\n",
    "    # Check if the department node already exists to avoid duplicates\n",
    "    existing_node = graph.nodes.match(\"Department\", name=dept_name).first()\n",
    "    if not existing_node:\n",
    "        dept_node = Node(\"Department\", name=dept_name)\n",
    "        graph.create(dept_node)\n",
    "        print(f\"Created Department node: {dept_name}\")\n",
    "    else:\n",
    "        print(f\"Department node already exists: {dept_name}\")"
   ]
  },
  {
   "cell_type": "markdown",
   "id": "05460612-5b4a-48d3-be12-edb22c1bf871",
   "metadata": {},
   "source": [
    "![Departments](data/pics/departments.png)"
   ]
  },
  {
   "cell_type": "markdown",
   "id": "c4957a4a-82f4-416f-be1c-11ebedd7102d",
   "metadata": {},
   "source": [
    "## Add one employee of administration department"
   ]
  },
  {
   "cell_type": "code",
   "execution_count": 8,
   "id": "aa9b8553-225f-448c-9c1a-5f9d9ca29de2",
   "metadata": {},
   "outputs": [],
   "source": [
    "def create_employee(dept_name, employee_index):\n",
    "    employees = data[\"Employee\"].get(dept_name)\n",
    "    if employees is None:\n",
    "        print(f\"❌ Department '{dept_name}' not found.\")\n",
    "        return\n",
    "\n",
    "    if employee_index >= len(employees):\n",
    "        print(f\"❌ Index {employee_index} out of range for department '{dept_name}'.\")\n",
    "        return\n",
    "\n",
    "    emp = employees[employee_index]\n",
    "    skill_tags = emp.get(\"skill_tags\", [])\n",
    "    skills_list = emp.get(\"skills\", [])\n",
    "\n",
    "    # Create or find Employee\n",
    "    emp_node = graph.nodes.match(\"Employee\", id=emp.get(\"id\")).first()\n",
    "    if not emp_node:\n",
    "        emp_node = Node(\n",
    "            \"Employee\",\n",
    "            id=emp.get(\"id\"),\n",
    "            name=emp.get(\"name\") or \"\",\n",
    "            gender=emp.get(\"gender\") or \"\",\n",
    "            contact=emp.get(\"contact\") or \"\",\n",
    "            email=emp.get(\"email\") or \"\",\n",
    "            private_address=emp.get(\"private_address\") or \"\",\n",
    "            job_title=emp.get(\"job_title\") or \"\",\n",
    "            working_shift=emp.get(\"working_shift\") or \"\",\n",
    "            skill_tags=skill_tags\n",
    "        )\n",
    "        graph.create(emp_node)\n",
    "        print(f\"✅ Created Employee: {emp.get('name')}\")\n",
    "    else:\n",
    "        print(f\"⚠️ Employee already exists: {emp.get('name')}\")\n",
    "        return\n",
    "\n",
    "    # Link to Department\n",
    "    dept_node = graph.nodes.match(\"Department\", name=dept_name).first()\n",
    "    if dept_node:\n",
    "        graph.merge(Relationship(emp_node, \"WORKS_IN\", dept_node))\n",
    "    else:\n",
    "        print(f\"❌ Department node not found: {dept_name}\")\n",
    "\n",
    "    # Create Skill nodes & relationships\n",
    "    for skill in skills_list:\n",
    "        skill_name = skill.get(\"name\")\n",
    "        progress = skill.get(\"progress\")\n",
    "\n",
    "        if skill_name:\n",
    "            skill_node = graph.nodes.match(\"Skill\", name=skill_name).first()\n",
    "            if not skill_node:\n",
    "                skill_node = Node(\"Skill\", name=skill_name)\n",
    "                graph.create(skill_node)\n",
    "\n",
    "            rel = Relationship(emp_node, \"HAS_SKILL\", skill_node, progress=progress)\n",
    "            graph.merge(rel)"
   ]
  },
  {
   "cell_type": "code",
   "execution_count": 9,
   "id": "77f182fd-6819-4b71-93e8-d5846abdadf0",
   "metadata": {},
   "outputs": [
    {
     "name": "stdout",
     "output_type": "stream",
     "text": [
      "✅ Created Employee: MMK\n"
     ]
    }
   ],
   "source": [
    "create_employee(\"Administration\", 0)"
   ]
  },
  {
   "cell_type": "markdown",
   "id": "1642f8f1-312f-4ab4-8c6c-d3ccd305d274",
   "metadata": {},
   "source": [
    "![Employee](data/pics/add_emp1.png)"
   ]
  },
  {
   "cell_type": "markdown",
   "id": "8fee9a34-844e-4b16-a063-2f0cf7b4c1cc",
   "metadata": {},
   "source": [
    "## Add Employee of Technician Team"
   ]
  },
  {
   "cell_type": "code",
   "execution_count": 10,
   "id": "caa8e9f6-3ea2-4c43-a080-aa7b46f181e5",
   "metadata": {},
   "outputs": [
    {
     "name": "stdout",
     "output_type": "stream",
     "text": [
      "✅ Created Employee: Manelyn NoynaySanchez\n"
     ]
    }
   ],
   "source": [
    "create_employee(\"Technician Team\", 3)"
   ]
  },
  {
   "cell_type": "markdown",
   "id": "d7fcfaa5-83e6-40bb-b341-a61b793e0e9e",
   "metadata": {},
   "source": [
    "![Employee](data/pics/add_emp2.png)"
   ]
  },
  {
   "cell_type": "code",
   "execution_count": 11,
   "id": "2304d0d5-e110-409d-8a7a-dccd911b680c",
   "metadata": {},
   "outputs": [
    {
     "name": "stdout",
     "output_type": "stream",
     "text": [
      "✅ Created Employee: Pranali Ramkrishna Kadam\n"
     ]
    }
   ],
   "source": [
    "create_employee(\"Human Resource Department\", 0)"
   ]
  },
  {
   "cell_type": "markdown",
   "id": "e17740ed-e89a-48ef-a759-67387c7900a5",
   "metadata": {},
   "source": [
    "## Create all employee of a particular department"
   ]
  },
  {
   "cell_type": "code",
   "execution_count": 12,
   "id": "82cc29fd-72ed-453e-beab-dfe078f50125",
   "metadata": {},
   "outputs": [],
   "source": [
    "def create_all_employees(dept_name):\n",
    "    employees = data[\"Employee\"].get(dept_name)\n",
    "    \n",
    "    if not employees:\n",
    "        print(f\"❌ Department '{dept_name}' not found or has no employees.\")\n",
    "        return\n",
    "    \n",
    "    for idx in range(len(employees)):\n",
    "        create_employee(dept_name, idx)"
   ]
  },
  {
   "cell_type": "code",
   "execution_count": 13,
   "id": "aee94c4b-2799-4558-a89f-479b5831176c",
   "metadata": {},
   "outputs": [
    {
     "name": "stdout",
     "output_type": "stream",
     "text": [
      "⚠️ Employee already exists: MMK\n",
      "✅ Created Employee: Generalist\n"
     ]
    }
   ],
   "source": [
    "create_all_employees(\"Administration\")"
   ]
  },
  {
   "cell_type": "code",
   "execution_count": 14,
   "id": "4a340e87-78c1-4836-adb0-00bee45550e0",
   "metadata": {},
   "outputs": [
    {
     "name": "stdout",
     "output_type": "stream",
     "text": [
      "✅ Created Employee: Peter\n",
      "✅ Created Employee: Mir\n",
      "✅ Created Employee: Mashusa\n",
      "✅ Created Employee: Tehir\n"
     ]
    }
   ],
   "source": [
    "create_all_employees(\"Unknown Department\")"
   ]
  },
  {
   "cell_type": "markdown",
   "id": "66d584df-cd06-41c7-93d2-ad88cf21ece2",
   "metadata": {},
   "source": [
    "![Unk Employee](data/pics/unk_dept.png)"
   ]
  },
  {
   "cell_type": "code",
   "execution_count": 15,
   "id": "c4cf0204-929c-4e8b-bfcd-97f88c80bbf3",
   "metadata": {},
   "outputs": [
    {
     "name": "stdout",
     "output_type": "stream",
     "text": [
      "✅ Created Employee: Safeer Ahmad Shah Muhammad\n",
      "✅ Created Employee: Muhammad Asad Asghar Ali\n",
      "✅ Created Employee: Waheed Ahmed Nisar Ahmed\n",
      "✅ Created Employee: Ali Raza Muhammad Mehdi\n",
      "✅ Created Employee: Muhammad Usman Khushi\n",
      "✅ Created Employee: Zain Ul Hadi Noor Ul Hadi\n",
      "✅ Created Employee: Nadeem\n",
      "✅ Created Employee: Abu Hurraira\n",
      "✅ Created Employee: Abdul Razzaq\n",
      "✅ Created Employee: Adnan Yousaf\n",
      "✅ Created Employee: Muhammad Asif\n",
      "✅ Created Employee: Muhammad Nabeel\n",
      "✅ Created Employee: Muhammad Shahid Muhammad Khalid\n",
      "✅ Created Employee: Zeeshan Khalid Mehmod\n"
     ]
    }
   ],
   "source": [
    "create_all_employees(\"Drivers\")"
   ]
  },
  {
   "cell_type": "code",
   "execution_count": 16,
   "id": "35a2a837-e9d9-4f05-ad59-44c909ca1ebc",
   "metadata": {},
   "outputs": [
    {
     "name": "stdout",
     "output_type": "stream",
     "text": [
      "✅ Created Employee: Nikytasha Bhatia\n",
      "✅ Created Employee: Omosivie Encharia Emokpaire\n",
      "✅ Created Employee: Chloe Cameleon Buhawe Ruiz\n",
      "✅ Created Employee: Mary Grace Bautista Jubinal\n",
      "✅ Created Employee: Najat Mohamed Faraj\n",
      "✅ Created Employee: Shahul Hameed\n",
      "✅ Created Employee: Ashley Ann Belderol\n"
     ]
    }
   ],
   "source": [
    "create_all_employees(\"Customer Support Team\")"
   ]
  },
  {
   "cell_type": "markdown",
   "id": "b721d0d1-29e0-45b7-b9df-4e1d77d78201",
   "metadata": {},
   "source": [
    "![Department](data/pics/add_dept.png)"
   ]
  },
  {
   "cell_type": "code",
   "execution_count": 17,
   "id": "c51c40d4-f37b-4ded-b154-41987fccb013",
   "metadata": {},
   "outputs": [
    {
     "name": "stdout",
     "output_type": "stream",
     "text": [
      "⚠️ Employee already exists: Manelyn NoynaySanchez\n"
     ]
    }
   ],
   "source": [
    "create_employee(\"Technician Team\", 3)"
   ]
  },
  {
   "cell_type": "markdown",
   "id": "36e33763-7b67-4d00-86ef-ea03e4599a6d",
   "metadata": {},
   "source": [
    "![Department](data/pics/add_dept2.png)"
   ]
  },
  {
   "cell_type": "markdown",
   "id": "d25869e3-e7d6-4c20-a1ac-6029c324d0a4",
   "metadata": {},
   "source": [
    "### Note that the skill percentage is store in relationship"
   ]
  },
  {
   "cell_type": "code",
   "execution_count": 18,
   "id": "257ed708-528b-4eaf-a667-c5abc6b3ce90",
   "metadata": {},
   "outputs": [
    {
     "name": "stdout",
     "output_type": "stream",
     "text": [
      "✅ Created Employee: MMK\n",
      "✅ Created Employee: test employee\n",
      "✅ Created Employee: Ethel Makwah\n",
      "⚠️ Employee already exists: Manelyn NoynaySanchez\n",
      "✅ Created Employee: Mary Dela Cruz Talusig\n",
      "✅ Created Employee: Marife Genotivo\n",
      "✅ Created Employee: Edie Enone\n",
      "✅ Created Employee: Madhusa Thirimana\n",
      "✅ Created Employee: Margarita Cuarema\n",
      "✅ Created Employee: Ceril Cresenciana Drilon Cabalin\n",
      "✅ Created Employee: Mirna Ayuni Paramida\n",
      "✅ Created Employee: NI MADE Ayu Suarmini\n",
      "✅ Created Employee: Ni Gusti Ayu Purnamawati\n",
      "✅ Created Employee: Mellisa Mojares\n",
      "✅ Created Employee: Melody Maique Villatuya\n",
      "✅ Created Employee: Ni Komang Ayu Astini\n",
      "✅ Created Employee: Ni MD kiki Indrawati\n",
      "✅ Created Employee: Ni Putu Ekayanti\n",
      "✅ Created Employee: Padmi Endrowati\n",
      "✅ Created Employee: Rahela\n",
      "✅ Created Employee: Gillian Nkom Andinwo\n",
      "✅ Created Employee: Puspa Lata Phurumbu\n",
      "✅ Created Employee: Dhana Maya Awasthi\n",
      "✅ Created Employee: Esteph Zacarias\n",
      "✅ Created Employee: Victoria Robert\n",
      "✅ Created Employee: Rollyn Quitor Salvacion\n",
      "✅ Created Employee: Shirly Beleno\n",
      "✅ Created Employee: Lilibeth Hermitanio Ligon\n",
      "✅ Created Employee: Dorian Douanla\n",
      "✅ Created Employee: Rowena Abay\n",
      "✅ Created Employee: Maria Gonzales Gorgonia\n",
      "✅ Created Employee: Nanova Afor Ashime\n",
      "✅ Created Employee: Marbelle Ngum Tangi\n",
      "✅ Created Employee: Annaliza Maghinay\n",
      "✅ Created Employee: Foz\n",
      "✅ Created Employee: Ehlam\n",
      "✅ Created Employee: Dipasen Sunar\n"
     ]
    }
   ],
   "source": [
    "create_all_employees(\"Technician Team\")"
   ]
  },
  {
   "cell_type": "markdown",
   "id": "f1680153-b7d7-498f-8efa-b87f2421091c",
   "metadata": {},
   "source": [
    "![Department](data/pics/all_dept.png)"
   ]
  },
  {
   "cell_type": "code",
   "execution_count": null,
   "id": "c070b570-5b49-4528-a559-d6d6169eac49",
   "metadata": {},
   "outputs": [],
   "source": []
  }
 ],
 "metadata": {
  "kernelspec": {
   "display_name": "Python 3 (ipykernel)",
   "language": "python",
   "name": "python3"
  },
  "language_info": {
   "codemirror_mode": {
    "name": "ipython",
    "version": 3
   },
   "file_extension": ".py",
   "mimetype": "text/x-python",
   "name": "python",
   "nbconvert_exporter": "python",
   "pygments_lexer": "ipython3",
   "version": "3.12.3"
  }
 },
 "nbformat": 4,
 "nbformat_minor": 5
}
