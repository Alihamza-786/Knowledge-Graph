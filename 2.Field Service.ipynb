{
 "cells": [
  {
   "cell_type": "markdown",
   "id": "bb78c348-3a15-4203-a550-5e5c55eda83a",
   "metadata": {},
   "source": [
    "# 🔍 Project Summary\n",
    "\n",
    "This project organizes service-related data using Neo4j and py2neo to show how different people and resources are connected in completing service tasks (like home spa treatments or repairs).\n",
    "\n",
    "Each task involves:\n",
    "\n",
    "- A customer,\n",
    "\n",
    "- A driver,\n",
    "\n",
    "- A vehicle,\n",
    "\n",
    "- One or more technicians,\n",
    "\n",
    "- And details like time, area, and cost.\n",
    "\n",
    "We started by creating basic nodes like employees and departments, then gradually connected each task to the involved people and resources.\n",
    "\n",
    "By looping through multiple tasks, we built a full network graph that clearly shows who does what, when, and how — like building a smart map of every service job."
   ]
  },
  {
   "cell_type": "code",
   "execution_count": 265,
   "id": "435cbf4b-f5d7-4697-8490-8b3871dbda8b",
   "metadata": {},
   "outputs": [],
   "source": [
    "import json\n",
    "from py2neo import Graph, Node, Relationship, NodeMatcher"
   ]
  },
  {
   "cell_type": "code",
   "execution_count": 266,
   "id": "d1452f56-678f-4037-bad5-3ce5aab359d5",
   "metadata": {},
   "outputs": [],
   "source": [
    "#Make Connection\n",
    "graph = Graph(\"bolt://localhost:7687\", auth=(\"neo4j\", \"12345678\"))"
   ]
  },
  {
   "cell_type": "code",
   "execution_count": 267,
   "id": "7939d93f-0dbd-45ac-a0fc-3f181b760c6f",
   "metadata": {},
   "outputs": [],
   "source": [
    "# Load employee data from the JSON file\n",
    "with open(\"data/field_service.json\", \"r\", encoding=\"utf-8\") as file:\n",
    "    data = json.load(file)"
   ]
  },
  {
   "cell_type": "code",
   "execution_count": 268,
   "id": "8172699d-6924-4648-84e1-4962a18ec332",
   "metadata": {},
   "outputs": [
    {
     "name": "stdout",
     "output_type": "stream",
     "text": [
      "<class 'list'>\n"
     ]
    }
   ],
   "source": [
    "print(type(data))"
   ]
  },
  {
   "cell_type": "code",
   "execution_count": 269,
   "id": "030ae778-2ce5-4faa-b34e-64be84db06f1",
   "metadata": {},
   "outputs": [
    {
     "name": "stdout",
     "output_type": "stream",
     "text": [
      "Top-level keys in first item:\n",
      "dict_keys(['service_task', 'customer', 'technicians', 'driver', 'vehicle', 'planned_date', 'time_slot', 'invoice'])\n"
     ]
    }
   ],
   "source": [
    "print(\"Top-level keys in first item:\")\n",
    "print(data[5].keys())"
   ]
  },
  {
   "cell_type": "code",
   "execution_count": 270,
   "id": "11867fba-b056-4187-aa12-b56c47cdfb31",
   "metadata": {},
   "outputs": [
    {
     "name": "stdout",
     "output_type": "stream",
     "text": [
      "{'id': 8293, 'name': 'Classic Manicure', 'area': 'Jumeriah Park', 'servis_name': 'Field Service', 'standard_name': 'Classic Manicure', 'similarity': '-1'}\n"
     ]
    }
   ],
   "source": [
    "print(data[5][\"service_task\"])"
   ]
  },
  {
   "cell_type": "code",
   "execution_count": 271,
   "id": "2ff00676-e64b-488f-a484-8192d1bc49c8",
   "metadata": {},
   "outputs": [
    {
     "name": "stdout",
     "output_type": "stream",
     "text": [
      "Jumeriah Park\n"
     ]
    }
   ],
   "source": [
    "print(data[5][\"service_task\"][\"area\"])"
   ]
  },
  {
   "cell_type": "markdown",
   "id": "b0621f56-ebdd-4dbf-bce3-7d8e9af5b8f1",
   "metadata": {},
   "source": [
    "# 1. Create First Task "
   ]
  },
  {
   "cell_type": "markdown",
   "id": "d6c78854-300a-418b-bff7-366b9936bee9",
   "metadata": {},
   "source": [
    "## 1.1 Create Task Node"
   ]
  },
  {
   "cell_type": "code",
   "execution_count": 272,
   "id": "942a59a2-15ce-4d2c-af84-5836d993bf87",
   "metadata": {},
   "outputs": [],
   "source": [
    "task_node = Node(\"Task\",\n",
    "            id = data[5][\"service_task\"][\"id\"],\n",
    "            name = data[5][\"service_task\"][\"standard_name\"],\n",
    "            area = data[5][\"service_task\"][\"area\"],\n",
    "            project = data[5][\"service_task\"][\"servis_name\"],\n",
    "            planned_date = data[5][\"planned_date\"][\"date\"],\n",
    "            start_time = data[5][\"time_slot\"][\"start\"],\n",
    "            end_time = data[5][\"time_slot\"][\"end\"],\n",
    "            amount = data[5][\"invoice\"][\"amount\"],\n",
    "            order_reference = data[5][\"invoice\"][\"order_reference\"])\n",
    "graph.merge(task_node, \"Task\", \"id\")"
   ]
  },
  {
   "cell_type": "markdown",
   "id": "c081d3fd-3971-4696-8dcf-06f6d57ea338",
   "metadata": {},
   "source": [
    "![Task](data/pics/task.png)"
   ]
  },
  {
   "cell_type": "markdown",
   "id": "1f924535-05fb-4d01-9d44-adce5b3f457a",
   "metadata": {},
   "source": [
    "## 1.2 Create Customer Node"
   ]
  },
  {
   "cell_type": "code",
   "execution_count": 273,
   "id": "ec68aa5c-b468-4a9b-81bb-93e985b0185d",
   "metadata": {},
   "outputs": [],
   "source": [
    "customer_node = Node(\"Customer\",\n",
    "                id = data[5][\"customer\"][\"id\"],\n",
    "                name = data[5][\"customer\"][\"name\"],\n",
    "                gender = data[5][\"customer\"][\"gender\"],\n",
    "                contact = data[5][\"customer\"][\"contact\"],\n",
    "                address = data[5][\"customer\"][\"address\"],\n",
    "                email = data[5][\"customer\"][\"email\"],\n",
    "                map_url = data[5][\"customer\"][\"map_url\"])\n",
    "graph.merge(customer_node, \"Customer\", \"id\")"
   ]
  },
  {
   "cell_type": "markdown",
   "id": "ece796a0-3c64-480d-bcbc-d651617a4419",
   "metadata": {},
   "source": [
    "![Task](data/pics/customer.png)"
   ]
  },
  {
   "cell_type": "markdown",
   "id": "86e45faa-7d01-48e0-b7c2-fab462eafac0",
   "metadata": {},
   "source": [
    "## 1.3 Create Driver Node"
   ]
  },
  {
   "cell_type": "code",
   "execution_count": 274,
   "id": "53f16121-ef24-4e04-a037-0a2d5a51dfc9",
   "metadata": {},
   "outputs": [],
   "source": [
    "driver_node = Node(\"Employee\",\n",
    "                   id=data[5][\"driver\"][\"id\"],\n",
    "                   name=data[5][\"driver\"][\"name\"])\n",
    "graph.merge(driver_node, \"Employee\", \"id\")       "
   ]
  },
  {
   "cell_type": "markdown",
   "id": "8987b0b5-0efd-4144-93b1-dd9ffe71713b",
   "metadata": {},
   "source": [
    "![Task](data/pics/driver.png)"
   ]
  },
  {
   "cell_type": "markdown",
   "id": "6341e623-8be7-43a4-9387-9a8a02670e43",
   "metadata": {},
   "source": [
    "## 1.4 Create Vehicle"
   ]
  },
  {
   "cell_type": "code",
   "execution_count": 275,
   "id": "b67c510e-6d06-4771-a27b-9185d46c05af",
   "metadata": {},
   "outputs": [],
   "source": [
    "vehicle_node = Node(\"Vehicle\",\n",
    "               id = data[5][\"vehicle\"][\"id\"],\n",
    "               name = data[5][\"vehicle\"][\"name\"],\n",
    "               license_plate = data[5][\"vehicle\"][\"license_plate\"])\n",
    "graph.merge(vehicle_node, \"Vehicle\", \"id\")       "
   ]
  },
  {
   "cell_type": "markdown",
   "id": "49061ca0-6746-4621-9bd4-6eee243f7403",
   "metadata": {},
   "source": [
    "![Task](data/pics/vehicle.png)"
   ]
  },
  {
   "cell_type": "markdown",
   "id": "f30c4864-c618-4118-8c45-41fbc4aaa0fd",
   "metadata": {},
   "source": [
    "## 1.5 Create Technicians Node"
   ]
  },
  {
   "cell_type": "code",
   "execution_count": 252,
   "id": "d68a2e3e-4605-4b22-b651-8a4e682fb494",
   "metadata": {},
   "outputs": [
    {
     "name": "stdout",
     "output_type": "stream",
     "text": [
      "dict_keys(['selected_technician', 'preferred_technician', 'non_preferred_technician'])\n"
     ]
    }
   ],
   "source": [
    "print(data[5][\"technicians\"].keys())"
   ]
  },
  {
   "cell_type": "code",
   "execution_count": 253,
   "id": "b90beff6-1970-48a7-b01c-c65506f4a7b8",
   "metadata": {},
   "outputs": [
    {
     "name": "stdout",
     "output_type": "stream",
     "text": [
      "<class 'list'>\n"
     ]
    }
   ],
   "source": [
    "print(type(data[5][\"technicians\"][\"selected_technician\"]))"
   ]
  },
  {
   "cell_type": "code",
   "execution_count": 254,
   "id": "53c17012-7a0b-4332-a736-20cbe1410841",
   "metadata": {},
   "outputs": [
    {
     "name": "stdout",
     "output_type": "stream",
     "text": [
      "{'id': 434, 'resource_id': 357, 'name': 'Rollyn Quitor Salvacion'}\n"
     ]
    }
   ],
   "source": [
    "print(data[5][\"technicians\"][\"selected_technician\"][0])"
   ]
  },
  {
   "cell_type": "code",
   "execution_count": 276,
   "id": "77971d25-b0e1-44a9-a2c8-8c8f140069ed",
   "metadata": {},
   "outputs": [],
   "source": [
    "selected_techs = data[5][\"technicians\"].get(\"selected_technician\", [])\n",
    "technician_node = []\n",
    "for tech in selected_techs:\n",
    "    tech_node = Node(\"Employee\",\n",
    "                           id=tech[\"id\"],\n",
    "                           resource_id=tech[\"resource_id\"],\n",
    "                           name=tech[\"name\"])\n",
    "    graph.merge(tech_node, \"Employee\", \"id\")  # using id as unique key\n",
    "    technician_node.append(tech_node)"
   ]
  },
  {
   "cell_type": "markdown",
   "id": "e9d908f6-c630-4d18-9e73-bb0e0bcf8a57",
   "metadata": {},
   "source": [
    "![Task](data/pics/technician.png)"
   ]
  },
  {
   "cell_type": "markdown",
   "id": "8b6594ac-401c-455f-b9b1-c2d4b8bbdc79",
   "metadata": {},
   "source": [
    "## 1.5 Create Relations"
   ]
  },
  {
   "cell_type": "code",
   "execution_count": 279,
   "id": "13901a23-9134-4b6a-8bb2-db4085cee438",
   "metadata": {},
   "outputs": [],
   "source": [
    "# Link Task to Customer\n",
    "graph.merge(Relationship(task_node, \"HAS_CUSTOMER\", customer_node))\n",
    "\n",
    "# Link Task to Driver\n",
    "graph.merge(Relationship(task_node, \"HAS_DRIVER\", driver_node))\n",
    "\n",
    "# Link Task to Vehicle\n",
    "graph.merge(Relationship(task_node, \"USES_VEHICLE\", vehicle_node))\n",
    "\n",
    "for tech in technician_node:\n",
    "    graph.merge(Relationship(task_node, \"SELECTED_TECHNICIAN\", tech))"
   ]
  },
  {
   "cell_type": "markdown",
   "id": "c66e048d-700f-4982-8f0f-a981a71ab340",
   "metadata": {},
   "source": [
    "![Task](data/pics/relation.png)"
   ]
  },
  {
   "cell_type": "markdown",
   "id": "e12210f8-13e7-45fd-8f4f-392e7136b4ed",
   "metadata": {},
   "source": [
    "# 2. Create Graph & Relations For First 10 Tasks"
   ]
  },
  {
   "cell_type": "code",
   "execution_count": 280,
   "id": "e1c40d13-e685-411a-8b8b-59c98875c9ef",
   "metadata": {},
   "outputs": [],
   "source": [
    "for item in data[:10]:\n",
    "    # 1. Create Task node\n",
    "    task_data = item.get(\"service_task\", {})\n",
    "    planned_date = item.get(\"planned_date\", {}).get(\"date\")\n",
    "    time_slot = item.get(\"time_slot\", {})\n",
    "    invoice = item.get(\"invoice\", {})\n",
    "\n",
    "    task = Node(\"Task\",\n",
    "                id=task_data.get(\"id\"),\n",
    "                name=task_data.get(\"standard_name\"),\n",
    "                area=task_data.get(\"area\"),\n",
    "                project=task_data.get(\"servis_name\"),\n",
    "                planned_date=planned_date,\n",
    "                start_time=time_slot.get(\"start\"),\n",
    "                end_time=time_slot.get(\"end\"),\n",
    "                amount=invoice.get(\"amount\"),\n",
    "                order_reference=invoice.get(\"order_reference\"))\n",
    "    graph.merge(task, \"Task\", \"id\")\n",
    "\n",
    "    # 2. Create Customer node (only if ID is present)\n",
    "    customer_data = item.get(\"customer\", {})\n",
    "    if customer_data.get(\"id\") is not None:\n",
    "        customer = Node(\"Customer\",\n",
    "                        id=customer_data.get(\"id\"),\n",
    "                        name=customer_data.get(\"name\"),\n",
    "                        gender=customer_data.get(\"gender\"),\n",
    "                        contact=customer_data.get(\"contact\"),\n",
    "                        address=customer_data.get(\"address\"),\n",
    "                        email=customer_data.get(\"email\"),\n",
    "                        map_url=customer_data.get(\"map_url\"))\n",
    "        graph.merge(customer, \"Customer\", \"id\")\n",
    "        graph.merge(Relationship(task, \"HAS_CUSTOMER\", customer))\n",
    "\n",
    "    # 3. Create Driver node\n",
    "    driver_data = item.get(\"driver\", {})\n",
    "    if driver_data.get(\"id\") is not None:\n",
    "        driver = Node(\"Employee\",\n",
    "                      id=driver_data.get(\"id\"),\n",
    "                      name=driver_data.get(\"name\"))\n",
    "        graph.merge(driver, \"Employee\", \"id\")\n",
    "        graph.merge(Relationship(task, \"HAS_DRIVER\", driver))\n",
    "\n",
    "        # 4. Create Vehicle and relationship\n",
    "        vehicle_data = item.get(\"vehicle\", {})\n",
    "        if vehicle_data.get(\"id\") is not None:\n",
    "            vehicle = Node(\"Vehicle\",\n",
    "                           id=vehicle_data.get(\"id\"),\n",
    "                           name=vehicle_data.get(\"name\"),\n",
    "                           license_plate=vehicle_data.get(\"license_plate\"))\n",
    "            graph.merge(vehicle, \"Vehicle\", \"id\")\n",
    "            graph.merge(Relationship(driver, \"DRIVES\", vehicle))\n",
    "            graph.merge(Relationship(task, \"USES_VEHICLE\", vehicle))\n",
    "\n",
    "    # 5. Create Technician nodes and relationships\n",
    "    selected_techs = item.get(\"technicians\", {}).get(\"selected_technician\", [])\n",
    "    for tech in selected_techs:\n",
    "        if tech.get(\"id\") is not None:\n",
    "            technician_node = Node(\"Employee\",\n",
    "                                   id=tech.get(\"id\"),\n",
    "                                   resource_id=tech.get(\"resource_id\"),\n",
    "                                   name=tech.get(\"name\"))\n",
    "            graph.merge(technician_node, \"Employee\", \"id\")\n",
    "            graph.merge(Relationship(task, \"SELECTED_TECHNICIAN\", technician_node))"
   ]
  },
  {
   "cell_type": "markdown",
   "id": "c7d3b067-e713-4a1b-b2c1-ae00fa3eeebf",
   "metadata": {},
   "source": [
    "![Task](data/pics/tenTask.png)"
   ]
  },
  {
   "cell_type": "code",
   "execution_count": null,
   "id": "4f36f415-b2b0-435e-be13-6322c67651e4",
   "metadata": {},
   "outputs": [],
   "source": []
  }
 ],
 "metadata": {
  "kernelspec": {
   "display_name": "Python 3 (ipykernel)",
   "language": "python",
   "name": "python3"
  },
  "language_info": {
   "codemirror_mode": {
    "name": "ipython",
    "version": 3
   },
   "file_extension": ".py",
   "mimetype": "text/x-python",
   "name": "python",
   "nbconvert_exporter": "python",
   "pygments_lexer": "ipython3",
   "version": "3.12.3"
  }
 },
 "nbformat": 4,
 "nbformat_minor": 5
}
