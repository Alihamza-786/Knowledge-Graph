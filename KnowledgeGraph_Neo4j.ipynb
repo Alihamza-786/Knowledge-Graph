{
 "cells": [
  {
   "cell_type": "markdown",
   "id": "e5c4569e-f02a-4de8-a7ec-676a60566d23",
   "metadata": {},
   "source": [
    "# KGs: Knowledge Graphs\n",
    "\n",
    "- KGs: a powerful tool for structuring and reasoning about complex data\n",
    "\n",
    "![kg](images/kg_defination.png)\n",
    "![kg](images/kg_applications.png)"
   ]
  },
  {
   "cell_type": "code",
   "execution_count": 28,
   "id": "e1557ce2-6cd3-49fc-b599-ae718a488e46",
   "metadata": {},
   "outputs": [],
   "source": [
    "import os\n",
    "from neo4j import GraphDatabase"
   ]
  },
  {
   "cell_type": "code",
   "execution_count": 29,
   "id": "7830534b-b16b-4ae4-9bac-5c349d61ac66",
   "metadata": {},
   "outputs": [],
   "source": [
    "AURA_INSTANCENAME=\"Trial instance\"\n",
    "NEO4J_URI=\"neo4j+ssc://12e4e3a9.databases.neo4j.io\"\n",
    "NEO4J_USERNAME=\"neo4j\"\n",
    "NEO4J_PASSWORD=\"ruGAnhFQw37omVDNFi2czwSqUqUvYfy3OzPdrJ38JZA\"\n",
    "AURA_INSTANCEID=\"12e4e3a9\"\n",
    "NEO4J_DATABASE =\"neo4j\"\n",
    "AUTH = (NEO4J_USERNAME, NEO4J_PASSWORD)"
   ]
  },
  {
   "cell_type": "code",
   "execution_count": 30,
   "id": "6d71e403-498e-4a76-a107-f3fc6e2aa551",
   "metadata": {},
   "outputs": [],
   "source": [
    "driver = GraphDatabase.driver(NEO4J_URI, auth=AUTH)"
   ]
  },
  {
   "cell_type": "code",
   "execution_count": 31,
   "id": "7b9ffab3-d5c8-421f-8f55-fe5274f746f9",
   "metadata": {},
   "outputs": [],
   "source": [
    "def connect_and_query():\n",
    "    try:\n",
    "        with driver.session() as session:\n",
    "            result = session.run(\"MATCH (n) RETURN count(n)\")\n",
    "            count = result.single().value()\n",
    "            print(f\"Number of nodes: {count}\")\n",
    "    except Exception as e:\n",
    "        print(f\"Error: {e}\")\n",
    "    finally:\n",
    "        driver.close()"
   ]
  },
  {
   "cell_type": "code",
   "execution_count": 20,
   "id": "ed5dbc1d-7e70-4556-8381-2ea8ea495a05",
   "metadata": {},
   "outputs": [
    {
     "name": "stdout",
     "output_type": "stream",
     "text": [
      "Number of nodes: 0\n"
     ]
    }
   ],
   "source": [
    "connect_and_query()"
   ]
  },
  {
   "cell_type": "code",
   "execution_count": 32,
   "id": "f5d5e956-cd1f-4aa0-a299-eb2022a3ae28",
   "metadata": {},
   "outputs": [],
   "source": [
    "def create_entities(tx):\n",
    "    # Create Albert Einstein node\n",
    "    tx.run(\"MERGE (a:Person {name: 'Albert Einstein'})\")\n",
    "\n",
    "    # Create other nodes\n",
    "    tx.run(\"MERGE (p:Subject {name: 'Physics'})\")\n",
    "    tx.run(\"MERGE (n:NobelPrize {name: 'Nobel Prize in Physics'})\")\n",
    "    tx.run(\"MERGE (g:Country {name: 'Germany'})\")\n",
    "    tx.run(\"MERGE (u:Country {name: 'USA'})\")"
   ]
  },
  {
   "cell_type": "code",
   "execution_count": 33,
   "id": "0281b09b-b151-4704-8fa3-80fe6dfbb964",
   "metadata": {},
   "outputs": [],
   "source": [
    "def create_relationships(tx):\n",
    "    # Create studied relationship\n",
    "    tx.run(\n",
    "        \"\"\"\n",
    "    MATCH (a:Person {name: 'Albert Einstein'}), (p:Subject {name: 'Physics'})\n",
    "    MERGE (a)-[:STUDIED]->(p)\n",
    "    \"\"\"\n",
    "    )\n",
    "\n",
    "    # Create won relationship\n",
    "    tx.run(\n",
    "        \"\"\"\n",
    "    MATCH (a:Person {name: 'Albert Einstein'}), (n:NobelPrize {name: 'Nobel Prize in Physics'})\n",
    "    MERGE (a)-[:WON]->(n)\n",
    "    \"\"\"\n",
    "    )\n",
    "\n",
    "    # Create born in relationship\n",
    "    tx.run(\n",
    "        \"\"\"\n",
    "    MATCH (a:Person {name: 'Albert Einstein'}), (g:Country {name: 'Germany'})\n",
    "    MERGE (a)-[:BORN_IN]->(g)\n",
    "    \"\"\"\n",
    "    )\n",
    "\n",
    "    # Create died in relationship\n",
    "    tx.run(\n",
    "        \"\"\"\n",
    "    MATCH (a:Person {name: 'Albert Einstein'}), (u:Country {name: 'USA'})\n",
    "    MERGE (a)-[:DIED_IN]->(u)\n",
    "    \"\"\"\n",
    "    )"
   ]
  },
  {
   "cell_type": "code",
   "execution_count": 34,
   "id": "674b92c7-548d-48d3-94ee-fc2580e783a9",
   "metadata": {},
   "outputs": [],
   "source": [
    "# Function to connect and run a simple Cypher query\n",
    "def query_graph_simple(cypher_query):\n",
    "    driver = GraphDatabase.driver(NEO4J_URI, auth=AUTH)\n",
    "    try:\n",
    "        with driver.session() as session: #database=NEO4J_DATABASE\n",
    "            result = session.run(cypher_query)\n",
    "            for record in result:\n",
    "                print(record[\"name\"])\n",
    "    except Exception as e:\n",
    "        print(f\"Error: {e}\")\n",
    "    finally:\n",
    "        driver.close()"
   ]
  },
  {
   "cell_type": "code",
   "execution_count": 35,
   "id": "d90516de-592c-4859-b0e7-cf6ca499b4f4",
   "metadata": {},
   "outputs": [],
   "source": [
    "# Function to connect and run a Cypher query\n",
    "def query_graph(cypher_query):\n",
    "    driver = GraphDatabase.driver(NEO4J_URI, auth=AUTH)\n",
    "    try:\n",
    "        with driver.session() as session: #database=NEO4J_DATABASE\n",
    "            result = session.run(cypher_query)\n",
    "            for record in result:\n",
    "                print(record[\"path\"])\n",
    "    except Exception as e:\n",
    "        print(f\"Error: {e}\")\n",
    "    finally:\n",
    "        driver.close()"
   ]
  },
  {
   "cell_type": "code",
   "execution_count": 36,
   "id": "658aecf1-5ebb-49f9-a36d-9c4b1f972829",
   "metadata": {},
   "outputs": [],
   "source": [
    "def build_knowledge_graph():\n",
    "    # Open a session with the Neo4j database\n",
    "\n",
    "    try:\n",
    "        with driver.session() as session: #database=NEO4J_DATABASE\n",
    "            # Create entities\n",
    "            session.execute_write(create_entities)\n",
    "            # Create relationships\n",
    "            session.execute_write(create_relationships)\n",
    "\n",
    "    except Exception as e:\n",
    "        print(f\"Error: {e}\")\n",
    "    finally:\n",
    "        driver.close()"
   ]
  },
  {
   "cell_type": "code",
   "execution_count": 37,
   "id": "b7384846-3d02-442c-94e8-7512455a92a9",
   "metadata": {},
   "outputs": [],
   "source": [
    "build_knowledge_graph()"
   ]
  },
  {
   "cell_type": "code",
   "execution_count": 38,
   "id": "9df09782-cf85-47e6-9b9d-1cf524db8f7f",
   "metadata": {},
   "outputs": [],
   "source": [
    "# Sinple Cypher query to find all node names\n",
    "simple_query = \"\"\"\n",
    "MATCH (n)\n",
    "RETURN n.name AS name\n",
    "\"\"\""
   ]
  },
  {
   "cell_type": "code",
   "execution_count": 39,
   "id": "ad525d50-8644-470a-9713-efb52bff3ba5",
   "metadata": {},
   "outputs": [
    {
     "name": "stdout",
     "output_type": "stream",
     "text": [
      "Albert Einstein\n",
      "Physics\n",
      "Nobel Prize in Physics\n",
      "Germany\n",
      "USA\n"
     ]
    }
   ],
   "source": [
    "query_graph_simple(\n",
    "    simple_query\n",
    ")"
   ]
  },
  {
   "cell_type": "markdown",
   "id": "cb9babd6-c6a3-499c-9036-4ed9adbb74b5",
   "metadata": {},
   "source": [
    "## You see following diagrams in Neo4j DB"
   ]
  },
  {
   "cell_type": "markdown",
   "id": "bd6a80c6-39a4-4b2c-8e06-a12a60cfdb0c",
   "metadata": {},
   "source": [
    "![kg](images/kg_germany.png)\n",
    "![kg](images/kg_physics.png)\n",
    "![kg](images/kg_all.png)"
   ]
  }
 ],
 "metadata": {
  "kernelspec": {
   "display_name": "Python 3 (ipykernel)",
   "language": "python",
   "name": "python3"
  },
  "language_info": {
   "codemirror_mode": {
    "name": "ipython",
    "version": 3
   },
   "file_extension": ".py",
   "mimetype": "text/x-python",
   "name": "python",
   "nbconvert_exporter": "python",
   "pygments_lexer": "ipython3",
   "version": "3.13.3"
  }
 },
 "nbformat": 4,
 "nbformat_minor": 5
}
